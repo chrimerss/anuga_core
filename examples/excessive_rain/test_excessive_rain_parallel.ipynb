{
 "cells": [
  {
   "cell_type": "code",
   "execution_count": 21,
   "metadata": {},
   "outputs": [
    {
     "ename": "ImportError",
     "evalue": "No module named mpiextras",
     "output_type": "error",
     "traceback": [
      "\u001b[0;31m---------------------------------------------------------------------------\u001b[0m",
      "\u001b[0;31mImportError\u001b[0m                               Traceback (most recent call last)",
      "\u001b[0;32m<ipython-input-21-fa8c084150ea>\u001b[0m in \u001b[0;36m<module>\u001b[0;34m()\u001b[0m\n\u001b[0;32m----> 1\u001b[0;31m \u001b[0;32mimport\u001b[0m \u001b[0manuga\u001b[0m\u001b[0;34m.\u001b[0m\u001b[0mparallel\u001b[0m\u001b[0;34m.\u001b[0m\u001b[0mmpiextras\u001b[0m\u001b[0;34m\u001b[0m\u001b[0m\n\u001b[0m",
      "\u001b[0;31mImportError\u001b[0m: No module named mpiextras"
     ]
    }
   ],
   "source": [
    "import anuga.parallel.mpiextras"
   ]
  },
  {
   "cell_type": "code",
   "execution_count": 10,
   "metadata": {},
   "outputs": [],
   "source": [
    "import sys\n",
    "sys.path.append('/home/ZhiLi/CRESTHH/anuga_core/anuga/parallel')\n",
    "import anuga\n",
    "from osgeo import gdal\n",
    "from glob import glob\n",
    "from affine import Affine\n",
    "import geopandas as gpd\n",
    "import pypar\n",
    "\n",
    "%matplotlib inline\n",
    "\n",
    "# Allow inline jshtml animations\n",
    "from matplotlib import rc\n",
    "rc('animation', html='jshtml')\n",
    "#  Mesh partition routines\n",
    "\n",
    "\n",
    "# from anuga.parallel.parallel_meshes import parallel_rectangle\n",
    "from anuga import distribute, myid, numprocs, finalize, barrier"
   ]
  },
  {
   "cell_type": "code",
   "execution_count": 12,
   "metadata": {},
   "outputs": [],
   "source": [
    "bounding_polygon= gpd.read_file('area/domain.shp')\n",
    "\n",
    "# Elevation Data\n",
    "topography_file = 'DEM.tif'\n",
    "# topography_file= '/home/ZhiLi/CRESTHH/data/precip/imerg20170825S150000.tif'\n",
    "\n",
    "# Resolution for most of the mesh\n",
    "base_resolution = 50.0  # m^2\n",
    "\n",
    "\n"
   ]
  },
  {
   "cell_type": "code",
   "execution_count": 13,
   "metadata": {},
   "outputs": [],
   "source": [
    "if myid==0:\n",
    "    domain = anuga.create_domain_from_regions(\n",
    "            list(bounding_polygon.exterior[0].coords),\n",
    "            boundary_tags={'bottom': [0],},\n",
    "            maximum_triangle_area=base_resolution,\n",
    "            )\n",
    "\n",
    "    domain.set_name('excessive_rain_para') # Name of sww file\n",
    "\n",
    "    domain.set_quantity('elevation', filename=topography_file, location='centroids') # Use function for elevation\n",
    "    domain.set_quantity('friction', 0.01, location='centroids')                        # Constant friction \n",
    "    domain.set_quantity('stage', expression='elevation', location='centroids')         # Dry Bed \n",
    "\n",
    "    Br = anuga.Reflective_boundary(domain)\n",
    "    Bt = anuga.Transmissive_boundary(domain)\n",
    "\n",
    "    domain.set_boundary({'bottom':   Bt,\n",
    "                         'exterior': Br})\n",
    "else:\n",
    "    domain=None"
   ]
  },
  {
   "cell_type": "code",
   "execution_count": 14,
   "metadata": {},
   "outputs": [],
   "source": [
    "domain= distribute(domain)"
   ]
  },
  {
   "cell_type": "code",
   "execution_count": 17,
   "metadata": {},
   "outputs": [
    {
     "name": "stdout",
     "output_type": "stream",
     "text": [
      "Time = 2.0000, delta t = 705.61713004, steps=1 (33s)\n",
      "Time = 3.0000, delta t = 705.61713004, steps=1 (0s)\n"
     ]
    },
    {
     "ename": "KeyboardInterrupt",
     "evalue": "",
     "output_type": "error",
     "traceback": [
      "\u001b[0;31m---------------------------------------------------------------------------\u001b[0m",
      "\u001b[0;31mKeyboardInterrupt\u001b[0m                         Traceback (most recent call last)",
      "\u001b[0;32m<ipython-input-17-ebaf5c7214d2>\u001b[0m in \u001b[0;36m<module>\u001b[0;34m()\u001b[0m\n\u001b[1;32m      2\u001b[0m \u001b[0mRain\u001b[0m \u001b[0;34m=\u001b[0m \u001b[0manuga\u001b[0m\u001b[0;34m.\u001b[0m\u001b[0mQuantity\u001b[0m\u001b[0;34m(\u001b[0m\u001b[0mdomain\u001b[0m\u001b[0;34m,\u001b[0m \u001b[0mname\u001b[0m\u001b[0;34m=\u001b[0m\u001b[0;34m'excessive rain'\u001b[0m\u001b[0;34m)\u001b[0m\u001b[0;34m\u001b[0m\u001b[0m\n\u001b[1;32m      3\u001b[0m \u001b[0mrain_op\u001b[0m \u001b[0;34m=\u001b[0m \u001b[0manuga\u001b[0m\u001b[0;34m.\u001b[0m\u001b[0mRate_operator\u001b[0m\u001b[0;34m(\u001b[0m\u001b[0mdomain\u001b[0m\u001b[0;34m,\u001b[0m \u001b[0mrate\u001b[0m \u001b[0;34m=\u001b[0m \u001b[0mRain\u001b[0m\u001b[0;34m,\u001b[0m \u001b[0mfactor\u001b[0m\u001b[0;34m=\u001b[0m\u001b[0;36m10\u001b[0m\u001b[0;34m)\u001b[0m\u001b[0;34m\u001b[0m\u001b[0m\n\u001b[0;32m----> 4\u001b[0;31m \u001b[0;32mfor\u001b[0m \u001b[0mi\u001b[0m\u001b[0;34m,\u001b[0m\u001b[0mt\u001b[0m \u001b[0;32min\u001b[0m \u001b[0menumerate\u001b[0m\u001b[0;34m(\u001b[0m\u001b[0mdomain\u001b[0m\u001b[0;34m.\u001b[0m\u001b[0mevolve\u001b[0m\u001b[0;34m(\u001b[0m\u001b[0myieldstep\u001b[0m\u001b[0;34m=\u001b[0m\u001b[0;36m1\u001b[0m\u001b[0;34m,\u001b[0m \u001b[0mduration\u001b[0m\u001b[0;34m=\u001b[0m\u001b[0;36m20\u001b[0m\u001b[0;34m)\u001b[0m\u001b[0;34m)\u001b[0m\u001b[0;34m:\u001b[0m\u001b[0;34m\u001b[0m\u001b[0m\n\u001b[0m\u001b[1;32m      5\u001b[0m     \u001b[0mcurrent_rain_file\u001b[0m \u001b[0;34m=\u001b[0m \u001b[0msorted\u001b[0m\u001b[0;34m(\u001b[0m\u001b[0mglob\u001b[0m\u001b[0;34m(\u001b[0m\u001b[0mexternal_dir\u001b[0m\u001b[0;34m+\u001b[0m\u001b[0;34m'/*.tif'\u001b[0m\u001b[0;34m)\u001b[0m\u001b[0;34m)\u001b[0m\u001b[0;34m[\u001b[0m\u001b[0mi\u001b[0m\u001b[0;34m]\u001b[0m\u001b[0;34m\u001b[0m\u001b[0m\n\u001b[1;32m      6\u001b[0m     \u001b[0;32mprint\u001b[0m \u001b[0mdomain\u001b[0m\u001b[0;34m.\u001b[0m\u001b[0mtimestepping_statistics\u001b[0m\u001b[0;34m(\u001b[0m\u001b[0;34m)\u001b[0m\u001b[0;34m\u001b[0m\u001b[0m\n",
      "\u001b[0;32m/home/ZhiLi/CRESTHH/python2/lib/python2.7/site-packages/anuga/shallow_water/shallow_water_domain.pyc\u001b[0m in \u001b[0;36mevolve\u001b[0;34m(self, yieldstep, finaltime, duration, skip_initial_step)\u001b[0m\n\u001b[1;32m   2440\u001b[0m         for t in self._evolve_base(yieldstep=yieldstep,\n\u001b[1;32m   2441\u001b[0m                                    \u001b[0mfinaltime\u001b[0m\u001b[0;34m=\u001b[0m\u001b[0mfinaltime\u001b[0m\u001b[0;34m,\u001b[0m \u001b[0mduration\u001b[0m\u001b[0;34m=\u001b[0m\u001b[0mduration\u001b[0m\u001b[0;34m,\u001b[0m\u001b[0;34m\u001b[0m\u001b[0m\n\u001b[0;32m-> 2442\u001b[0;31m                                    skip_initial_step=skip_initial_step):\n\u001b[0m\u001b[1;32m   2443\u001b[0m \u001b[0;34m\u001b[0m\u001b[0m\n\u001b[1;32m   2444\u001b[0m             \u001b[0mself\u001b[0m\u001b[0;34m.\u001b[0m\u001b[0myieldstep_id\u001b[0m \u001b[0;34m+=\u001b[0m \u001b[0;36m1\u001b[0m\u001b[0;34m\u001b[0m\u001b[0m\n",
      "\u001b[0;32m/home/ZhiLi/CRESTHH/python2/lib/python2.7/site-packages/anuga/abstract_2d_finite_volumes/generic_domain.pyc\u001b[0m in \u001b[0;36m_evolve_base\u001b[0;34m(self, yieldstep, finaltime, duration, skip_initial_step)\u001b[0m\n\u001b[1;32m   1691\u001b[0m             \u001b[0;31m#==========================================\u001b[0m\u001b[0;34m\u001b[0m\u001b[0;34m\u001b[0m\u001b[0m\n\u001b[1;32m   1692\u001b[0m             \u001b[0;32mif\u001b[0m \u001b[0mself\u001b[0m\u001b[0;34m.\u001b[0m\u001b[0mget_timestepping_method\u001b[0m\u001b[0;34m(\u001b[0m\u001b[0;34m)\u001b[0m \u001b[0;34m==\u001b[0m \u001b[0;34m'euler'\u001b[0m\u001b[0;34m:\u001b[0m\u001b[0;34m\u001b[0m\u001b[0m\n\u001b[0;32m-> 1693\u001b[0;31m                 \u001b[0mself\u001b[0m\u001b[0;34m.\u001b[0m\u001b[0mevolve_one_euler_step\u001b[0m\u001b[0;34m(\u001b[0m\u001b[0myieldstep\u001b[0m\u001b[0;34m,\u001b[0m \u001b[0mself\u001b[0m\u001b[0;34m.\u001b[0m\u001b[0mfinaltime\u001b[0m\u001b[0;34m)\u001b[0m\u001b[0;34m\u001b[0m\u001b[0m\n\u001b[0m\u001b[1;32m   1694\u001b[0m \u001b[0;34m\u001b[0m\u001b[0m\n\u001b[1;32m   1695\u001b[0m             \u001b[0;32melif\u001b[0m \u001b[0mself\u001b[0m\u001b[0;34m.\u001b[0m\u001b[0mget_timestepping_method\u001b[0m\u001b[0;34m(\u001b[0m\u001b[0;34m)\u001b[0m \u001b[0;34m==\u001b[0m \u001b[0;34m'rk2'\u001b[0m\u001b[0;34m:\u001b[0m\u001b[0;34m\u001b[0m\u001b[0m\n",
      "\u001b[0;32m/home/ZhiLi/CRESTHH/python2/lib/python2.7/site-packages/anuga/abstract_2d_finite_volumes/generic_domain.pyc\u001b[0m in \u001b[0;36mevolve_one_euler_step\u001b[0;34m(self, yieldstep, finaltime)\u001b[0m\n\u001b[1;32m   1789\u001b[0m \u001b[0;34m\u001b[0m\u001b[0m\n\u001b[1;32m   1790\u001b[0m         \u001b[0;31m# Update conserved quantities\u001b[0m\u001b[0;34m\u001b[0m\u001b[0;34m\u001b[0m\u001b[0m\n\u001b[0;32m-> 1791\u001b[0;31m         \u001b[0mself\u001b[0m\u001b[0;34m.\u001b[0m\u001b[0mupdate_conserved_quantities\u001b[0m\u001b[0;34m(\u001b[0m\u001b[0;34m)\u001b[0m\u001b[0;34m\u001b[0m\u001b[0m\n\u001b[0m\u001b[1;32m   1792\u001b[0m \u001b[0;34m\u001b[0m\u001b[0m\n\u001b[1;32m   1793\u001b[0m \u001b[0;34m\u001b[0m\u001b[0m\n",
      "\u001b[0;32m/home/ZhiLi/CRESTHH/python2/lib/python2.7/site-packages/anuga/shallow_water/shallow_water_domain.pyc\u001b[0m in \u001b[0;36mupdate_conserved_quantities\u001b[0;34m(self)\u001b[0m\n\u001b[1;32m   2232\u001b[0m             \u001b[0mtff\u001b[0m \u001b[0;34m=\u001b[0m \u001b[0mself\u001b[0m\u001b[0;34m.\u001b[0m\u001b[0mtri_full_flag\u001b[0m\u001b[0;34m\u001b[0m\u001b[0m\n\u001b[1;32m   2233\u001b[0m \u001b[0;34m\u001b[0m\u001b[0m\n\u001b[0;32m-> 2234\u001b[0;31m             \u001b[0mnegative_ids\u001b[0m \u001b[0;34m=\u001b[0m \u001b[0mnum\u001b[0m\u001b[0;34m.\u001b[0m\u001b[0mwhere\u001b[0m\u001b[0;34m(\u001b[0m \u001b[0mnum\u001b[0m\u001b[0;34m.\u001b[0m\u001b[0mlogical_and\u001b[0m\u001b[0;34m(\u001b[0m\u001b[0;34m(\u001b[0m\u001b[0mStage\u001b[0m\u001b[0;34m.\u001b[0m\u001b[0mcentroid_values\u001b[0m \u001b[0;34m-\u001b[0m \u001b[0mElev\u001b[0m\u001b[0;34m.\u001b[0m\u001b[0mcentroid_values\u001b[0m\u001b[0;34m)\u001b[0m \u001b[0;34m<\u001b[0m \u001b[0;36m0.0\u001b[0m \u001b[0;34m,\u001b[0m \u001b[0mtff\u001b[0m \u001b[0;34m>\u001b[0m \u001b[0;36m0\u001b[0m\u001b[0;34m)\u001b[0m \u001b[0;34m)\u001b[0m\u001b[0;34m[\u001b[0m\u001b[0;36m0\u001b[0m\u001b[0;34m]\u001b[0m\u001b[0;34m\u001b[0m\u001b[0m\n\u001b[0m\u001b[1;32m   2235\u001b[0m \u001b[0;34m\u001b[0m\u001b[0m\n\u001b[1;32m   2236\u001b[0m             \u001b[0;32mif\u001b[0m \u001b[0mlen\u001b[0m\u001b[0;34m(\u001b[0m\u001b[0mnegative_ids\u001b[0m\u001b[0;34m)\u001b[0m\u001b[0;34m>\u001b[0m\u001b[0;36m0\u001b[0m\u001b[0;34m:\u001b[0m\u001b[0;34m\u001b[0m\u001b[0m\n",
      "\u001b[0;31mKeyboardInterrupt\u001b[0m: "
     ]
    }
   ],
   "source": [
    "external_dir= '/home/ZhiLi/CRESTHH/data/precip'\n",
    "Rain = anuga.Quantity(domain, name='excessive rain')\n",
    "rain_op = anuga.Rate_operator(domain, rate = Rain, factor=10)\n",
    "for i,t in enumerate(domain.evolve(yieldstep=1, duration=20)):\n",
    "    current_rain_file = sorted(glob(external_dir+'/*.tif'))[i]\n",
    "    print domain.timestepping_statistics()\n",
    "    Rain.set_values_from_utm_grid_file(current_rain_file, location='centroids')\n",
    "domain.sww_merge(verbose=True)"
   ]
  }
 ],
 "metadata": {
  "kernelspec": {
   "display_name": "Python 2",
   "language": "python",
   "name": "python2"
  },
  "language_info": {
   "codemirror_mode": {
    "name": "ipython",
    "version": 2
   },
   "file_extension": ".py",
   "mimetype": "text/x-python",
   "name": "python",
   "nbconvert_exporter": "python",
   "pygments_lexer": "ipython2",
   "version": "2.7.5"
  }
 },
 "nbformat": 4,
 "nbformat_minor": 2
}
